{
 "cells": [
  {
   "cell_type": "code",
   "execution_count": null,
   "metadata": {},
   "outputs": [],
   "source": [
    "r = {'val_loss': [1.5948994159698486, 1.5927408933639526, 1.5988738536834717, 1.600225806236267, 1.6007765531539917, 1.6012158393859863, 1.6006187200546265, 1.602561593055725, 1.5993106365203857, 1.5990663766860962], 'val_acc': [0.20000000298023224, 0.2666666805744171, 0.20000000298023224, 0.20000000298023224, 0.20000000298023224, 0.2666666805744171, 0.2666666805744171, 0.20000000298023224, 0.3333333432674408, 0.3333333432674408], 'loss': [1.6153841018676758, 1.6161599159240723, 1.6138415336608887, 1.6127499341964722, 1.6097476482391357, 1.6081382036209106, 1.60945725440979, 1.6099598407745361, 1.6082781553268433, 1.606399416923523], 'acc': [0.1355932205915451, 0.16949152946472168, 0.1525423675775528, 0.20338982343673706, 0.22033898532390594, 0.20338982343673706, 0.23728813230991364, 0.18644067645072937, 0.20338982343673706, 0.20338982343673706]}\n",
    "%matplotlib inline\n",
    "from matplotlib import pyplot as plt\n",
    "# ACCURACIES\n",
    "plt.figure(figsize=(10, 10))\n",
    "plt.title('Accuracies')\n",
    "plt.xlabel('Epoch(s)')\n",
    "plt.ylabel('Accuracy')\n",
    "plt.plot(r['acc'], label='Train Acc')\n",
    "plt.plot(r['val_acc'], label='Test Acc')\n",
    "plt.grid(linestyle='dashed', linewidth=0.5)\n",
    "plt.legend()\n",
    "plt.tight_layout()\n",
    "plt.show()\n",
    "# LOSSES\n",
    "plt.figure(figsize=(10, 10))\n",
    "plt.title('Losses')\n",
    "plt.xlabel('Epoch(s)')\n",
    "plt.ylabel('Loss')\n",
    "plt.plot(r['loss'], label='Train Loss')\n",
    "plt.plot(r['val_loss'], label='Test Loss')\n",
    "plt.grid(linestyle='dashed', linewidth=0.5)\n",
    "plt.legend()\n",
    "plt.tight_layout()\n",
    "plt.show()"
   ]
  }
 ],
 "metadata": {},
 "nbformat": 4,
 "nbformat_minor": 2
}
